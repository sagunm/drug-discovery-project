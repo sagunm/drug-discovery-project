{
  "nbformat": 4,
  "nbformat_minor": 0,
  "metadata": {
    "colab": {
      "name": "Dd data collection and pre-processing.ipynb",
      "provenance": [],
      "collapsed_sections": [],
      "mount_file_id": "1vN3BJ4t8Gv0UoPoCS6cfp0YwNwL9bzQQ",
      "authorship_tag": "ABX9TyNK0Ee7/eBsuE50IuDXioAP",
      "include_colab_link": true
    },
    "kernelspec": {
      "name": "python3",
      "display_name": "Python 3"
    },
    "language_info": {
      "name": "python"
    }
  },
  "cells": [
    {
      "cell_type": "markdown",
      "metadata": {
        "id": "view-in-github",
        "colab_type": "text"
      },
      "source": [
        "<a href=\"https://colab.research.google.com/github/sagunm/drug-discovery-project/blob/main/Data_collection_and_pre_processing.ipynb\" target=\"_parent\"><img src=\"https://colab.research.google.com/assets/colab-badge.svg\" alt=\"Open In Colab\"/></a>"
      ]
    },
    {
      "cell_type": "markdown",
      "metadata": {
        "id": "ud4dl-FbWpF8"
      },
      "source": [
        "The ChEMBL Database is a database that contains curated bioactivity data of more than 2 million compounds. It is compiled from more than 76,000 documents, 1.2 million assays and the data spans 13,000 targets and 1,800 cells and 33,000 indications. [Data as of March 25, 2020; ChEMBL version 26]."
      ]
    },
    {
      "cell_type": "code",
      "metadata": {
        "colab": {
          "base_uri": "https://localhost:8080/"
        },
        "id": "K7_OsHLyW1f0",
        "outputId": "0b250930-7b88-448f-fdb1-f92369419e34"
      },
      "source": [
        "#Install the ChEMBL web service package so that we can retrieve bioactivity data from the ChEMBL Database.\n",
        "! pip install chembl_webresource_client"
      ],
      "execution_count": 2,
      "outputs": [
        {
          "output_type": "stream",
          "name": "stdout",
          "text": [
            "Collecting chembl_webresource_client\n",
            "  Downloading chembl_webresource_client-0.10.7-py3-none-any.whl (55 kB)\n",
            "\u001b[?25l\r\u001b[K     |██████                          | 10 kB 24.9 MB/s eta 0:00:01\r\u001b[K     |███████████▉                    | 20 kB 9.1 MB/s eta 0:00:01\r\u001b[K     |█████████████████▊              | 30 kB 8.3 MB/s eta 0:00:01\r\u001b[K     |███████████████████████▋        | 40 kB 7.7 MB/s eta 0:00:01\r\u001b[K     |█████████████████████████████▌  | 51 kB 4.2 MB/s eta 0:00:01\r\u001b[K     |████████████████████████████████| 55 kB 2.2 MB/s \n",
            "\u001b[?25hCollecting requests-cache~=0.7.0\n",
            "  Downloading requests_cache-0.7.5-py3-none-any.whl (39 kB)\n",
            "Requirement already satisfied: requests>=2.18.4 in /usr/local/lib/python3.7/dist-packages (from chembl_webresource_client) (2.23.0)\n",
            "Requirement already satisfied: urllib3 in /usr/local/lib/python3.7/dist-packages (from chembl_webresource_client) (1.24.3)\n",
            "Requirement already satisfied: easydict in /usr/local/lib/python3.7/dist-packages (from chembl_webresource_client) (1.9)\n",
            "Requirement already satisfied: idna<3,>=2.5 in /usr/local/lib/python3.7/dist-packages (from requests>=2.18.4->chembl_webresource_client) (2.10)\n",
            "Requirement already satisfied: certifi>=2017.4.17 in /usr/local/lib/python3.7/dist-packages (from requests>=2.18.4->chembl_webresource_client) (2021.10.8)\n",
            "Requirement already satisfied: chardet<4,>=3.0.2 in /usr/local/lib/python3.7/dist-packages (from requests>=2.18.4->chembl_webresource_client) (3.0.4)\n",
            "Requirement already satisfied: attrs<22.0,>=21.2 in /usr/local/lib/python3.7/dist-packages (from requests-cache~=0.7.0->chembl_webresource_client) (21.2.0)\n",
            "Collecting pyyaml>=5.4\n",
            "  Downloading PyYAML-6.0-cp37-cp37m-manylinux_2_5_x86_64.manylinux1_x86_64.manylinux_2_12_x86_64.manylinux2010_x86_64.whl (596 kB)\n",
            "\u001b[K     |████████████████████████████████| 596 kB 8.8 MB/s \n",
            "\u001b[?25hCollecting url-normalize<2.0,>=1.4\n",
            "  Downloading url_normalize-1.4.3-py2.py3-none-any.whl (6.8 kB)\n",
            "Collecting itsdangerous>=2.0.1\n",
            "  Downloading itsdangerous-2.0.1-py3-none-any.whl (18 kB)\n",
            "Requirement already satisfied: six in /usr/local/lib/python3.7/dist-packages (from url-normalize<2.0,>=1.4->requests-cache~=0.7.0->chembl_webresource_client) (1.15.0)\n",
            "Installing collected packages: url-normalize, pyyaml, itsdangerous, requests-cache, chembl-webresource-client\n",
            "  Attempting uninstall: pyyaml\n",
            "    Found existing installation: PyYAML 3.13\n",
            "    Uninstalling PyYAML-3.13:\n",
            "      Successfully uninstalled PyYAML-3.13\n",
            "  Attempting uninstall: itsdangerous\n",
            "    Found existing installation: itsdangerous 1.1.0\n",
            "    Uninstalling itsdangerous-1.1.0:\n",
            "      Successfully uninstalled itsdangerous-1.1.0\n",
            "\u001b[31mERROR: pip's dependency resolver does not currently take into account all the packages that are installed. This behaviour is the source of the following dependency conflicts.\n",
            "flask 1.1.4 requires itsdangerous<2.0,>=0.24, but you have itsdangerous 2.0.1 which is incompatible.\u001b[0m\n",
            "Successfully installed chembl-webresource-client-0.10.7 itsdangerous-2.0.1 pyyaml-6.0 requests-cache-0.7.5 url-normalize-1.4.3\n"
          ]
        }
      ]
    },
    {
      "cell_type": "markdown",
      "metadata": {
        "id": "DPoSkOkFeaFm"
      },
      "source": [
        "# **Importing all libraries**"
      ]
    },
    {
      "cell_type": "code",
      "metadata": {
        "id": "Z2qjacBIeuGO"
      },
      "source": [
        "import pandas as pd\n",
        "from chembl_webresource_client.new_client import new_client"
      ],
      "execution_count": 3,
      "outputs": []
    },
    {
      "cell_type": "markdown",
      "metadata": {
        "id": "-RqnRXcw7vtD"
      },
      "source": [
        "###**Search for target protein**"
      ]
    },
    {
      "cell_type": "markdown",
      "metadata": {
        "id": "Od3d8yl8ZVw8"
      },
      "source": [
        "### Target search for coronavirus"
      ]
    },
    {
      "cell_type": "code",
      "metadata": {
        "colab": {
          "base_uri": "https://localhost:8080/",
          "height": 365
        },
        "id": "d62Aq0_ne5hF",
        "outputId": "6a1c7c97-294c-4588-830a-bd65dc2554f3"
      },
      "source": [
        "#Target search for corona virus\n",
        "target = new_client.target\n",
        "target_query = target.search('coronavirus')\n",
        "targets = pd.DataFrame.from_dict(target_query)\n",
        "targets"
      ],
      "execution_count": 4,
      "outputs": [
        {
          "output_type": "execute_result",
          "data": {
            "text/html": [
              "<div>\n",
              "<style scoped>\n",
              "    .dataframe tbody tr th:only-of-type {\n",
              "        vertical-align: middle;\n",
              "    }\n",
              "\n",
              "    .dataframe tbody tr th {\n",
              "        vertical-align: top;\n",
              "    }\n",
              "\n",
              "    .dataframe thead th {\n",
              "        text-align: right;\n",
              "    }\n",
              "</style>\n",
              "<table border=\"1\" class=\"dataframe\">\n",
              "  <thead>\n",
              "    <tr style=\"text-align: right;\">\n",
              "      <th></th>\n",
              "      <th>cross_references</th>\n",
              "      <th>organism</th>\n",
              "      <th>pref_name</th>\n",
              "      <th>score</th>\n",
              "      <th>species_group_flag</th>\n",
              "      <th>target_chembl_id</th>\n",
              "      <th>target_components</th>\n",
              "      <th>target_type</th>\n",
              "      <th>tax_id</th>\n",
              "    </tr>\n",
              "  </thead>\n",
              "  <tbody>\n",
              "    <tr>\n",
              "      <th>0</th>\n",
              "      <td>[]</td>\n",
              "      <td>Coronavirus</td>\n",
              "      <td>Coronavirus</td>\n",
              "      <td>17.0</td>\n",
              "      <td>False</td>\n",
              "      <td>CHEMBL613732</td>\n",
              "      <td>[]</td>\n",
              "      <td>ORGANISM</td>\n",
              "      <td>11119</td>\n",
              "    </tr>\n",
              "    <tr>\n",
              "      <th>1</th>\n",
              "      <td>[]</td>\n",
              "      <td>SARS coronavirus</td>\n",
              "      <td>SARS coronavirus</td>\n",
              "      <td>15.0</td>\n",
              "      <td>False</td>\n",
              "      <td>CHEMBL612575</td>\n",
              "      <td>[]</td>\n",
              "      <td>ORGANISM</td>\n",
              "      <td>227859</td>\n",
              "    </tr>\n",
              "    <tr>\n",
              "      <th>2</th>\n",
              "      <td>[]</td>\n",
              "      <td>Feline coronavirus</td>\n",
              "      <td>Feline coronavirus</td>\n",
              "      <td>15.0</td>\n",
              "      <td>False</td>\n",
              "      <td>CHEMBL612744</td>\n",
              "      <td>[]</td>\n",
              "      <td>ORGANISM</td>\n",
              "      <td>12663</td>\n",
              "    </tr>\n",
              "    <tr>\n",
              "      <th>3</th>\n",
              "      <td>[]</td>\n",
              "      <td>Human coronavirus 229E</td>\n",
              "      <td>Human coronavirus 229E</td>\n",
              "      <td>13.0</td>\n",
              "      <td>False</td>\n",
              "      <td>CHEMBL613837</td>\n",
              "      <td>[]</td>\n",
              "      <td>ORGANISM</td>\n",
              "      <td>11137</td>\n",
              "    </tr>\n",
              "    <tr>\n",
              "      <th>4</th>\n",
              "      <td>[{'xref_id': 'P0C6U8', 'xref_name': None, 'xre...</td>\n",
              "      <td>SARS coronavirus</td>\n",
              "      <td>SARS coronavirus 3C-like proteinase</td>\n",
              "      <td>10.0</td>\n",
              "      <td>False</td>\n",
              "      <td>CHEMBL3927</td>\n",
              "      <td>[{'accession': 'P0C6U8', 'component_descriptio...</td>\n",
              "      <td>SINGLE PROTEIN</td>\n",
              "      <td>227859</td>\n",
              "    </tr>\n",
              "    <tr>\n",
              "      <th>5</th>\n",
              "      <td>[]</td>\n",
              "      <td>Middle East respiratory syndrome-related coron...</td>\n",
              "      <td>Middle East respiratory syndrome-related coron...</td>\n",
              "      <td>9.0</td>\n",
              "      <td>False</td>\n",
              "      <td>CHEMBL4296578</td>\n",
              "      <td>[]</td>\n",
              "      <td>ORGANISM</td>\n",
              "      <td>1335626</td>\n",
              "    </tr>\n",
              "    <tr>\n",
              "      <th>6</th>\n",
              "      <td>[{'xref_id': 'P0C6X7', 'xref_name': None, 'xre...</td>\n",
              "      <td>SARS coronavirus</td>\n",
              "      <td>Replicase polyprotein 1ab</td>\n",
              "      <td>4.0</td>\n",
              "      <td>False</td>\n",
              "      <td>CHEMBL5118</td>\n",
              "      <td>[{'accession': 'P0C6X7', 'component_descriptio...</td>\n",
              "      <td>SINGLE PROTEIN</td>\n",
              "      <td>227859</td>\n",
              "    </tr>\n",
              "    <tr>\n",
              "      <th>7</th>\n",
              "      <td>[]</td>\n",
              "      <td>Severe acute respiratory syndrome coronavirus 2</td>\n",
              "      <td>Replicase polyprotein 1ab</td>\n",
              "      <td>4.0</td>\n",
              "      <td>False</td>\n",
              "      <td>CHEMBL4523582</td>\n",
              "      <td>[{'accession': 'P0DTD1', 'component_descriptio...</td>\n",
              "      <td>SINGLE PROTEIN</td>\n",
              "      <td>2697049</td>\n",
              "    </tr>\n",
              "  </tbody>\n",
              "</table>\n",
              "</div>"
            ],
            "text/plain": [
              "                                    cross_references  ...   tax_id\n",
              "0                                                 []  ...    11119\n",
              "1                                                 []  ...   227859\n",
              "2                                                 []  ...    12663\n",
              "3                                                 []  ...    11137\n",
              "4  [{'xref_id': 'P0C6U8', 'xref_name': None, 'xre...  ...   227859\n",
              "5                                                 []  ...  1335626\n",
              "6  [{'xref_id': 'P0C6X7', 'xref_name': None, 'xre...  ...   227859\n",
              "7                                                 []  ...  2697049\n",
              "\n",
              "[8 rows x 9 columns]"
            ]
          },
          "metadata": {},
          "execution_count": 4
        }
      ]
    },
    {
      "cell_type": "markdown",
      "metadata": {
        "id": "FmWTNbh6bby0"
      },
      "source": [
        "### **Select and retrieve bioactivity data for *SARS coronavirus 3C-like proteinase* (fifth entry)**"
      ]
    },
    {
      "cell_type": "code",
      "metadata": {
        "colab": {
          "base_uri": "https://localhost:8080/",
          "height": 37
        },
        "id": "IF-toa94a8AF",
        "outputId": "1efba9ef-4471-4288-c414-fcd6072cf7ba"
      },
      "source": [
        "#the selected target will then be the fifth entry\n",
        "selected_target = targets.target_chembl_id[4]\n",
        "selected_target"
      ],
      "execution_count": 5,
      "outputs": [
        {
          "output_type": "execute_result",
          "data": {
            "application/vnd.google.colaboratory.intrinsic+json": {
              "type": "string"
            },
            "text/plain": [
              "'CHEMBL3927'"
            ]
          },
          "metadata": {},
          "execution_count": 5
        }
      ]
    },
    {
      "cell_type": "markdown",
      "metadata": {
        "id": "cRxSzicGd1Hw"
      },
      "source": [
        "Only bioactivity data for *coronavirus 3C-like proteinase* (CHEMBL3927) will be retrieved and reported as IC$_{50}$ values in nM (nanomolar) unit."
      ]
    },
    {
      "cell_type": "code",
      "metadata": {
        "id": "92Yfv9ySdEbp"
      },
      "source": [
        "activity = new_client.activity\n",
        "res= activity.filter(target_chembl_id=selected_target).filter(standard_type='IC50')"
      ],
      "execution_count": 6,
      "outputs": []
    },
    {
      "cell_type": "code",
      "metadata": {
        "id": "0BotdF66eSw-"
      },
      "source": [
        "df = pd.DataFrame.from_dict(res)"
      ],
      "execution_count": 7,
      "outputs": []
    },
    {
      "cell_type": "code",
      "metadata": {
        "colab": {
          "base_uri": "https://localhost:8080/",
          "height": 264
        },
        "id": "kBPMu-zheYtL",
        "outputId": "c6b341cf-1ca9-4df3-de05-f07856236d3f"
      },
      "source": [
        "df.head(3)"
      ],
      "execution_count": 8,
      "outputs": [
        {
          "output_type": "execute_result",
          "data": {
            "text/html": [
              "<div>\n",
              "<style scoped>\n",
              "    .dataframe tbody tr th:only-of-type {\n",
              "        vertical-align: middle;\n",
              "    }\n",
              "\n",
              "    .dataframe tbody tr th {\n",
              "        vertical-align: top;\n",
              "    }\n",
              "\n",
              "    .dataframe thead th {\n",
              "        text-align: right;\n",
              "    }\n",
              "</style>\n",
              "<table border=\"1\" class=\"dataframe\">\n",
              "  <thead>\n",
              "    <tr style=\"text-align: right;\">\n",
              "      <th></th>\n",
              "      <th>activity_comment</th>\n",
              "      <th>activity_id</th>\n",
              "      <th>activity_properties</th>\n",
              "      <th>assay_chembl_id</th>\n",
              "      <th>assay_description</th>\n",
              "      <th>assay_type</th>\n",
              "      <th>assay_variant_accession</th>\n",
              "      <th>assay_variant_mutation</th>\n",
              "      <th>bao_endpoint</th>\n",
              "      <th>bao_format</th>\n",
              "      <th>bao_label</th>\n",
              "      <th>canonical_smiles</th>\n",
              "      <th>data_validity_comment</th>\n",
              "      <th>data_validity_description</th>\n",
              "      <th>document_chembl_id</th>\n",
              "      <th>document_journal</th>\n",
              "      <th>document_year</th>\n",
              "      <th>ligand_efficiency</th>\n",
              "      <th>molecule_chembl_id</th>\n",
              "      <th>molecule_pref_name</th>\n",
              "      <th>parent_molecule_chembl_id</th>\n",
              "      <th>pchembl_value</th>\n",
              "      <th>potential_duplicate</th>\n",
              "      <th>qudt_units</th>\n",
              "      <th>record_id</th>\n",
              "      <th>relation</th>\n",
              "      <th>src_id</th>\n",
              "      <th>standard_flag</th>\n",
              "      <th>standard_relation</th>\n",
              "      <th>standard_text_value</th>\n",
              "      <th>standard_type</th>\n",
              "      <th>standard_units</th>\n",
              "      <th>standard_upper_value</th>\n",
              "      <th>standard_value</th>\n",
              "      <th>target_chembl_id</th>\n",
              "      <th>target_organism</th>\n",
              "      <th>target_pref_name</th>\n",
              "      <th>target_tax_id</th>\n",
              "      <th>text_value</th>\n",
              "      <th>toid</th>\n",
              "      <th>type</th>\n",
              "      <th>units</th>\n",
              "      <th>uo_units</th>\n",
              "      <th>upper_value</th>\n",
              "      <th>value</th>\n",
              "    </tr>\n",
              "  </thead>\n",
              "  <tbody>\n",
              "    <tr>\n",
              "      <th>0</th>\n",
              "      <td>None</td>\n",
              "      <td>1480935</td>\n",
              "      <td>[]</td>\n",
              "      <td>CHEMBL829584</td>\n",
              "      <td>In vitro inhibitory concentration against SARS...</td>\n",
              "      <td>B</td>\n",
              "      <td>None</td>\n",
              "      <td>None</td>\n",
              "      <td>BAO_0000190</td>\n",
              "      <td>BAO_0000357</td>\n",
              "      <td>single protein format</td>\n",
              "      <td>Cc1noc(C)c1CN1C(=O)C(=O)c2cc(C#N)ccc21</td>\n",
              "      <td>None</td>\n",
              "      <td>None</td>\n",
              "      <td>CHEMBL1139624</td>\n",
              "      <td>Bioorg. Med. Chem. Lett.</td>\n",
              "      <td>2005</td>\n",
              "      <td>{'bei': '18.28', 'le': '0.33', 'lle': '3.25', ...</td>\n",
              "      <td>CHEMBL187579</td>\n",
              "      <td>None</td>\n",
              "      <td>CHEMBL187579</td>\n",
              "      <td>5.14</td>\n",
              "      <td>False</td>\n",
              "      <td>http://www.openphacts.org/units/Nanomolar</td>\n",
              "      <td>384103</td>\n",
              "      <td>=</td>\n",
              "      <td>1</td>\n",
              "      <td>True</td>\n",
              "      <td>=</td>\n",
              "      <td>None</td>\n",
              "      <td>IC50</td>\n",
              "      <td>nM</td>\n",
              "      <td>None</td>\n",
              "      <td>7200.0</td>\n",
              "      <td>CHEMBL3927</td>\n",
              "      <td>SARS coronavirus</td>\n",
              "      <td>SARS coronavirus 3C-like proteinase</td>\n",
              "      <td>227859</td>\n",
              "      <td>None</td>\n",
              "      <td>None</td>\n",
              "      <td>IC50</td>\n",
              "      <td>uM</td>\n",
              "      <td>UO_0000065</td>\n",
              "      <td>None</td>\n",
              "      <td>7.2</td>\n",
              "    </tr>\n",
              "    <tr>\n",
              "      <th>1</th>\n",
              "      <td>None</td>\n",
              "      <td>1480936</td>\n",
              "      <td>[]</td>\n",
              "      <td>CHEMBL829584</td>\n",
              "      <td>In vitro inhibitory concentration against SARS...</td>\n",
              "      <td>B</td>\n",
              "      <td>None</td>\n",
              "      <td>None</td>\n",
              "      <td>BAO_0000190</td>\n",
              "      <td>BAO_0000357</td>\n",
              "      <td>single protein format</td>\n",
              "      <td>O=C1C(=O)N(Cc2ccc(F)cc2Cl)c2ccc(I)cc21</td>\n",
              "      <td>None</td>\n",
              "      <td>None</td>\n",
              "      <td>CHEMBL1139624</td>\n",
              "      <td>Bioorg. Med. Chem. Lett.</td>\n",
              "      <td>2005</td>\n",
              "      <td>{'bei': '12.10', 'le': '0.33', 'lle': '1.22', ...</td>\n",
              "      <td>CHEMBL188487</td>\n",
              "      <td>None</td>\n",
              "      <td>CHEMBL188487</td>\n",
              "      <td>5.03</td>\n",
              "      <td>False</td>\n",
              "      <td>http://www.openphacts.org/units/Nanomolar</td>\n",
              "      <td>383984</td>\n",
              "      <td>=</td>\n",
              "      <td>1</td>\n",
              "      <td>True</td>\n",
              "      <td>=</td>\n",
              "      <td>None</td>\n",
              "      <td>IC50</td>\n",
              "      <td>nM</td>\n",
              "      <td>None</td>\n",
              "      <td>9400.0</td>\n",
              "      <td>CHEMBL3927</td>\n",
              "      <td>SARS coronavirus</td>\n",
              "      <td>SARS coronavirus 3C-like proteinase</td>\n",
              "      <td>227859</td>\n",
              "      <td>None</td>\n",
              "      <td>None</td>\n",
              "      <td>IC50</td>\n",
              "      <td>uM</td>\n",
              "      <td>UO_0000065</td>\n",
              "      <td>None</td>\n",
              "      <td>9.4</td>\n",
              "    </tr>\n",
              "    <tr>\n",
              "      <th>2</th>\n",
              "      <td>None</td>\n",
              "      <td>1481061</td>\n",
              "      <td>[]</td>\n",
              "      <td>CHEMBL830868</td>\n",
              "      <td>In vitro inhibitory concentration against SARS...</td>\n",
              "      <td>B</td>\n",
              "      <td>None</td>\n",
              "      <td>None</td>\n",
              "      <td>BAO_0000190</td>\n",
              "      <td>BAO_0000357</td>\n",
              "      <td>single protein format</td>\n",
              "      <td>O=C1C(=O)N(CC2COc3ccccc3O2)c2ccc(I)cc21</td>\n",
              "      <td>None</td>\n",
              "      <td>None</td>\n",
              "      <td>CHEMBL1139624</td>\n",
              "      <td>Bioorg. Med. Chem. Lett.</td>\n",
              "      <td>2005</td>\n",
              "      <td>{'bei': '11.56', 'le': '0.29', 'lle': '2.21', ...</td>\n",
              "      <td>CHEMBL185698</td>\n",
              "      <td>None</td>\n",
              "      <td>CHEMBL185698</td>\n",
              "      <td>4.87</td>\n",
              "      <td>False</td>\n",
              "      <td>http://www.openphacts.org/units/Nanomolar</td>\n",
              "      <td>384106</td>\n",
              "      <td>=</td>\n",
              "      <td>1</td>\n",
              "      <td>True</td>\n",
              "      <td>=</td>\n",
              "      <td>None</td>\n",
              "      <td>IC50</td>\n",
              "      <td>nM</td>\n",
              "      <td>None</td>\n",
              "      <td>13500.0</td>\n",
              "      <td>CHEMBL3927</td>\n",
              "      <td>SARS coronavirus</td>\n",
              "      <td>SARS coronavirus 3C-like proteinase</td>\n",
              "      <td>227859</td>\n",
              "      <td>None</td>\n",
              "      <td>None</td>\n",
              "      <td>IC50</td>\n",
              "      <td>uM</td>\n",
              "      <td>UO_0000065</td>\n",
              "      <td>None</td>\n",
              "      <td>13.5</td>\n",
              "    </tr>\n",
              "  </tbody>\n",
              "</table>\n",
              "</div>"
            ],
            "text/plain": [
              "  activity_comment  activity_id  ... upper_value value\n",
              "0             None      1480935  ...        None   7.2\n",
              "1             None      1480936  ...        None   9.4\n",
              "2             None      1481061  ...        None  13.5\n",
              "\n",
              "[3 rows x 45 columns]"
            ]
          },
          "metadata": {},
          "execution_count": 8
        }
      ]
    },
    {
      "cell_type": "code",
      "metadata": {
        "colab": {
          "base_uri": "https://localhost:8080/"
        },
        "id": "7KJZIpVRea8E",
        "outputId": "0321fd44-b6e4-491c-dfbb-1430b7c4b1e9"
      },
      "source": [
        "len(df.index)"
      ],
      "execution_count": 9,
      "outputs": [
        {
          "output_type": "execute_result",
          "data": {
            "text/plain": [
              "133"
            ]
          },
          "metadata": {},
          "execution_count": 9
        }
      ]
    },
    {
      "cell_type": "code",
      "metadata": {
        "colab": {
          "base_uri": "https://localhost:8080/"
        },
        "id": "hOXC2o07giSG",
        "outputId": "e6e9293d-df7f-4f6c-9ec0-e9dce68c2af0"
      },
      "source": [
        "df.standard_type.unique()"
      ],
      "execution_count": 10,
      "outputs": [
        {
          "output_type": "execute_result",
          "data": {
            "text/plain": [
              "array(['IC50'], dtype=object)"
            ]
          },
          "metadata": {},
          "execution_count": 10
        }
      ]
    },
    {
      "cell_type": "code",
      "metadata": {
        "id": "7e7DSj1PgnMH"
      },
      "source": [
        "#saving the resulting bioactivity data to a CSV file\n",
        "df.to_csv('bioactivity_data.csv', index=False)"
      ],
      "execution_count": 11,
      "outputs": []
    },
    {
      "cell_type": "markdown",
      "metadata": {
        "id": "Uz9mjyrZjX6S"
      },
      "source": [
        "### **Copying files need to Google Drive**"
      ]
    },
    {
      "cell_type": "code",
      "metadata": {
        "colab": {
          "base_uri": "https://localhost:8080/"
        },
        "id": "CqJG3zy_hmmV",
        "outputId": "a678808b-d511-45b6-e3d7-de363a621067"
      },
      "source": [
        "# mounting Drive into Colab\n",
        "from google.colab import drive\n",
        "drive.mount('/content/gdrive', force_remount=True)"
      ],
      "execution_count": 12,
      "outputs": [
        {
          "output_type": "stream",
          "name": "stdout",
          "text": [
            "Mounted at /content/gdrive\n"
          ]
        }
      ]
    },
    {
      "cell_type": "code",
      "metadata": {
        "id": "ITsf8UySkUk8"
      },
      "source": [
        "#creating a folder for data\n",
        "! mkdir \"/content/gdrive/My Drive/Colab Notebooks/data\""
      ],
      "execution_count": 13,
      "outputs": []
    },
    {
      "cell_type": "code",
      "metadata": {
        "id": "VNhAsER3m30V"
      },
      "source": [
        "! cp bioactivity_data.csv \"/content/gdrive/My Drive/Colab Notebooks/data\""
      ],
      "execution_count": 14,
      "outputs": []
    },
    {
      "cell_type": "code",
      "metadata": {
        "colab": {
          "base_uri": "https://localhost:8080/"
        },
        "id": "g-kGzxZPnIFp",
        "outputId": "83c12ac9-d51d-45ae-ceee-b5b68f021385"
      },
      "source": [
        "! ls -l \"/content/gdrive/My Drive/Colab Notebooks/data\""
      ],
      "execution_count": 15,
      "outputs": [
        {
          "output_type": "stream",
          "name": "stdout",
          "text": [
            "total 69\n",
            "-rw------- 1 root root 70334 Nov 27 23:36 bioactivity_data.csv\n"
          ]
        }
      ]
    },
    {
      "cell_type": "code",
      "metadata": {
        "colab": {
          "base_uri": "https://localhost:8080/"
        },
        "id": "3-PrrvRMnTUQ",
        "outputId": "1de9195d-e2f6-4c6d-f59e-15ade7cbbca5"
      },
      "source": [
        "! ls"
      ],
      "execution_count": 16,
      "outputs": [
        {
          "output_type": "stream",
          "name": "stdout",
          "text": [
            "bioactivity_data.csv  drive  gdrive  sample_data\n"
          ]
        }
      ]
    },
    {
      "cell_type": "code",
      "metadata": {
        "colab": {
          "base_uri": "https://localhost:8080/"
        },
        "id": "pGO-hG1EnZv1",
        "outputId": "e92d7ba1-4db6-4309-c428-fec6d4b4242b"
      },
      "source": [
        "! head bioactivity_data.csv"
      ],
      "execution_count": 17,
      "outputs": [
        {
          "output_type": "stream",
          "name": "stdout",
          "text": [
            "activity_comment,activity_id,activity_properties,assay_chembl_id,assay_description,assay_type,assay_variant_accession,assay_variant_mutation,bao_endpoint,bao_format,bao_label,canonical_smiles,data_validity_comment,data_validity_description,document_chembl_id,document_journal,document_year,ligand_efficiency,molecule_chembl_id,molecule_pref_name,parent_molecule_chembl_id,pchembl_value,potential_duplicate,qudt_units,record_id,relation,src_id,standard_flag,standard_relation,standard_text_value,standard_type,standard_units,standard_upper_value,standard_value,target_chembl_id,target_organism,target_pref_name,target_tax_id,text_value,toid,type,units,uo_units,upper_value,value\n",
            ",1480935,[],CHEMBL829584,In vitro inhibitory concentration against SARS coronavirus main protease (SARS CoV 3C-like protease),B,,,BAO_0000190,BAO_0000357,single protein format,Cc1noc(C)c1CN1C(=O)C(=O)c2cc(C#N)ccc21,,,CHEMBL1139624,Bioorg. Med. Chem. Lett.,2005,\"{'bei': '18.28', 'le': '0.33', 'lle': '3.25', 'sei': '5.90'}\",CHEMBL187579,,CHEMBL187579,5.14,False,http://www.openphacts.org/units/Nanomolar,384103,=,1,True,=,,IC50,nM,,7200.0,CHEMBL3927,SARS coronavirus,SARS coronavirus 3C-like proteinase,227859,,,IC50,uM,UO_0000065,,7.2\n",
            ",1480936,[],CHEMBL829584,In vitro inhibitory concentration against SARS coronavirus main protease (SARS CoV 3C-like protease),B,,,BAO_0000190,BAO_0000357,single protein format,O=C1C(=O)N(Cc2ccc(F)cc2Cl)c2ccc(I)cc21,,,CHEMBL1139624,Bioorg. Med. Chem. Lett.,2005,\"{'bei': '12.10', 'le': '0.33', 'lle': '1.22', 'sei': '13.45'}\",CHEMBL188487,,CHEMBL188487,5.03,False,http://www.openphacts.org/units/Nanomolar,383984,=,1,True,=,,IC50,nM,,9400.0,CHEMBL3927,SARS coronavirus,SARS coronavirus 3C-like proteinase,227859,,,IC50,uM,UO_0000065,,9.4\n",
            ",1481061,[],CHEMBL830868,In vitro inhibitory concentration against SARS coronavirus main protease (SARS CoV 3C-like protease) at 20 uM,B,,,BAO_0000190,BAO_0000357,single protein format,O=C1C(=O)N(CC2COc3ccccc3O2)c2ccc(I)cc21,,,CHEMBL1139624,Bioorg. Med. Chem. Lett.,2005,\"{'bei': '11.56', 'le': '0.29', 'lle': '2.21', 'sei': '8.72'}\",CHEMBL185698,,CHEMBL185698,4.87,False,http://www.openphacts.org/units/Nanomolar,384106,=,1,True,=,,IC50,nM,,13500.0,CHEMBL3927,SARS coronavirus,SARS coronavirus 3C-like proteinase,227859,,,IC50,uM,UO_0000065,,13.5\n",
            ",1481065,[],CHEMBL829584,In vitro inhibitory concentration against SARS coronavirus main protease (SARS CoV 3C-like protease),B,,,BAO_0000190,BAO_0000357,single protein format,O=C1C(=O)N(Cc2cc3ccccc3s2)c2ccccc21,,,CHEMBL1139624,Bioorg. Med. Chem. Lett.,2005,\"{'bei': '16.64', 'le': '0.32', 'lle': '1.25', 'sei': '13.06'}\",CHEMBL426082,,CHEMBL426082,4.88,False,http://www.openphacts.org/units/Nanomolar,384075,=,1,True,=,,IC50,nM,,13110.0,CHEMBL3927,SARS coronavirus,SARS coronavirus 3C-like proteinase,227859,,,IC50,uM,UO_0000065,,13.11\n",
            ",1481066,[],CHEMBL829584,In vitro inhibitory concentration against SARS coronavirus main protease (SARS CoV 3C-like protease),B,,,BAO_0000190,BAO_0000357,single protein format,O=C1C(=O)N(Cc2cc3ccccc3s2)c2c1cccc2[N+](=O)[O-],,,CHEMBL1139624,Bioorg. Med. Chem. Lett.,2005,\"{'bei': '16.84', 'le': '0.32', 'lle': '2.16', 'sei': '7.08'}\",CHEMBL187717,,CHEMBL187717,5.70,False,http://www.openphacts.org/units/Nanomolar,384234,=,1,True,=,,IC50,nM,,2000.0,CHEMBL3927,SARS coronavirus,SARS coronavirus 3C-like proteinase,227859,,,IC50,uM,UO_0000065,,2.0\n",
            ",1481068,[],CHEMBL828143,In vitro inhibitory concentration SARS coronavirus main protease (SARS CoV 3C-like protease) ,B,,,BAO_0000190,BAO_0000357,single protein format,O=C1C(=O)N(Cc2cc3ccccc3s2)c2c(Br)cccc21,,,CHEMBL1139624,Bioorg. Med. Chem. Lett.,2005,\"{'bei': '16.14', 'le': '0.37', 'lle': '1.62', 'sei': '16.07'}\",CHEMBL365134,,CHEMBL365134,6.01,False,http://www.openphacts.org/units/Nanomolar,384081,=,1,True,=,,IC50,nM,,980.0,CHEMBL3927,SARS coronavirus,SARS coronavirus 3C-like proteinase,227859,,,IC50,uM,UO_0000065,,0.98\n",
            ",1481088,[],CHEMBL829584,In vitro inhibitory concentration against SARS coronavirus main protease (SARS CoV 3C-like protease),B,,,BAO_0000190,BAO_0000357,single protein format,O=C1C(=O)N(Cc2cc3ccccc3s2)c2ccc(F)cc21,,,CHEMBL1139624,Bioorg. Med. Chem. Lett.,2005,\"{'bei': '17.08', 'le': '0.33', 'lle': '1.55', 'sei': '14.22'}\",CHEMBL187598,,CHEMBL187598,5.32,False,http://www.openphacts.org/units/Nanomolar,384303,=,1,True,=,,IC50,nM,,4820.0,CHEMBL3927,SARS coronavirus,SARS coronavirus 3C-like proteinase,227859,,,IC50,uM,UO_0000065,,4.82\n",
            ",1481089,[],CHEMBL829584,In vitro inhibitory concentration against SARS coronavirus main protease (SARS CoV 3C-like protease),B,,,BAO_0000190,BAO_0000357,single protein format,O=C1C(=O)N(Cc2cc3ccccc3s2)c2ccc(I)cc21,,,CHEMBL1139624,Bioorg. Med. Chem. Lett.,2005,\"{'bei': '14.36', 'le': '0.37', 'lle': '1.78', 'sei': '16.11'}\",CHEMBL190743,,CHEMBL190743,6.02,False,http://www.openphacts.org/units/Nanomolar,384329,=,1,True,=,,IC50,nM,,950.0,CHEMBL3927,SARS coronavirus,SARS coronavirus 3C-like proteinase,227859,,,IC50,uM,UO_0000065,,0.95\n",
            ",1481093,[],CHEMBL829584,In vitro inhibitory concentration against SARS coronavirus main protease (SARS CoV 3C-like protease),B,,,BAO_0000190,BAO_0000357,single protein format,O=C1C(=O)N(Cc2cc3ccccc3s2)c2cccc(Cl)c21,,,CHEMBL1139624,Bioorg. Med. Chem. Lett.,2005,\"{'bei': '15.10', 'le': '0.31', 'lle': '0.67', 'sei': '13.24'}\",CHEMBL365469,,CHEMBL365469,4.95,False,http://www.openphacts.org/units/Nanomolar,384283,=,1,True,=,,IC50,nM,,11200.0,CHEMBL3927,SARS coronavirus,SARS coronavirus 3C-like proteinase,227859,,,IC50,uM,UO_0000065,,11.2\n"
          ]
        }
      ]
    },
    {
      "cell_type": "markdown",
      "metadata": {
        "id": "5orRFNRanhU1"
      },
      "source": [
        "### **Handling missing data**"
      ]
    },
    {
      "cell_type": "code",
      "metadata": {
        "colab": {
          "base_uri": "https://localhost:8080/",
          "height": 779
        },
        "id": "HJMIAmaUnfb3",
        "outputId": "ec592b14-854e-4adc-e032-58cc871053c9"
      },
      "source": [
        "#Dropping compounds that have missing standard_value column values\n",
        "df2 = df[df.standard_value.notna()]\n",
        "df2"
      ],
      "execution_count": 18,
      "outputs": [
        {
          "output_type": "execute_result",
          "data": {
            "text/html": [
              "<div>\n",
              "<style scoped>\n",
              "    .dataframe tbody tr th:only-of-type {\n",
              "        vertical-align: middle;\n",
              "    }\n",
              "\n",
              "    .dataframe tbody tr th {\n",
              "        vertical-align: top;\n",
              "    }\n",
              "\n",
              "    .dataframe thead th {\n",
              "        text-align: right;\n",
              "    }\n",
              "</style>\n",
              "<table border=\"1\" class=\"dataframe\">\n",
              "  <thead>\n",
              "    <tr style=\"text-align: right;\">\n",
              "      <th></th>\n",
              "      <th>activity_comment</th>\n",
              "      <th>activity_id</th>\n",
              "      <th>activity_properties</th>\n",
              "      <th>assay_chembl_id</th>\n",
              "      <th>assay_description</th>\n",
              "      <th>assay_type</th>\n",
              "      <th>assay_variant_accession</th>\n",
              "      <th>assay_variant_mutation</th>\n",
              "      <th>bao_endpoint</th>\n",
              "      <th>bao_format</th>\n",
              "      <th>bao_label</th>\n",
              "      <th>canonical_smiles</th>\n",
              "      <th>data_validity_comment</th>\n",
              "      <th>data_validity_description</th>\n",
              "      <th>document_chembl_id</th>\n",
              "      <th>document_journal</th>\n",
              "      <th>document_year</th>\n",
              "      <th>ligand_efficiency</th>\n",
              "      <th>molecule_chembl_id</th>\n",
              "      <th>molecule_pref_name</th>\n",
              "      <th>parent_molecule_chembl_id</th>\n",
              "      <th>pchembl_value</th>\n",
              "      <th>potential_duplicate</th>\n",
              "      <th>qudt_units</th>\n",
              "      <th>record_id</th>\n",
              "      <th>relation</th>\n",
              "      <th>src_id</th>\n",
              "      <th>standard_flag</th>\n",
              "      <th>standard_relation</th>\n",
              "      <th>standard_text_value</th>\n",
              "      <th>standard_type</th>\n",
              "      <th>standard_units</th>\n",
              "      <th>standard_upper_value</th>\n",
              "      <th>standard_value</th>\n",
              "      <th>target_chembl_id</th>\n",
              "      <th>target_organism</th>\n",
              "      <th>target_pref_name</th>\n",
              "      <th>target_tax_id</th>\n",
              "      <th>text_value</th>\n",
              "      <th>toid</th>\n",
              "      <th>type</th>\n",
              "      <th>units</th>\n",
              "      <th>uo_units</th>\n",
              "      <th>upper_value</th>\n",
              "      <th>value</th>\n",
              "    </tr>\n",
              "  </thead>\n",
              "  <tbody>\n",
              "    <tr>\n",
              "      <th>0</th>\n",
              "      <td>None</td>\n",
              "      <td>1480935</td>\n",
              "      <td>[]</td>\n",
              "      <td>CHEMBL829584</td>\n",
              "      <td>In vitro inhibitory concentration against SARS...</td>\n",
              "      <td>B</td>\n",
              "      <td>None</td>\n",
              "      <td>None</td>\n",
              "      <td>BAO_0000190</td>\n",
              "      <td>BAO_0000357</td>\n",
              "      <td>single protein format</td>\n",
              "      <td>Cc1noc(C)c1CN1C(=O)C(=O)c2cc(C#N)ccc21</td>\n",
              "      <td>None</td>\n",
              "      <td>None</td>\n",
              "      <td>CHEMBL1139624</td>\n",
              "      <td>Bioorg. Med. Chem. Lett.</td>\n",
              "      <td>2005</td>\n",
              "      <td>{'bei': '18.28', 'le': '0.33', 'lle': '3.25', ...</td>\n",
              "      <td>CHEMBL187579</td>\n",
              "      <td>None</td>\n",
              "      <td>CHEMBL187579</td>\n",
              "      <td>5.14</td>\n",
              "      <td>False</td>\n",
              "      <td>http://www.openphacts.org/units/Nanomolar</td>\n",
              "      <td>384103</td>\n",
              "      <td>=</td>\n",
              "      <td>1</td>\n",
              "      <td>True</td>\n",
              "      <td>=</td>\n",
              "      <td>None</td>\n",
              "      <td>IC50</td>\n",
              "      <td>nM</td>\n",
              "      <td>None</td>\n",
              "      <td>7200.0</td>\n",
              "      <td>CHEMBL3927</td>\n",
              "      <td>SARS coronavirus</td>\n",
              "      <td>SARS coronavirus 3C-like proteinase</td>\n",
              "      <td>227859</td>\n",
              "      <td>None</td>\n",
              "      <td>None</td>\n",
              "      <td>IC50</td>\n",
              "      <td>uM</td>\n",
              "      <td>UO_0000065</td>\n",
              "      <td>None</td>\n",
              "      <td>7.2</td>\n",
              "    </tr>\n",
              "    <tr>\n",
              "      <th>1</th>\n",
              "      <td>None</td>\n",
              "      <td>1480936</td>\n",
              "      <td>[]</td>\n",
              "      <td>CHEMBL829584</td>\n",
              "      <td>In vitro inhibitory concentration against SARS...</td>\n",
              "      <td>B</td>\n",
              "      <td>None</td>\n",
              "      <td>None</td>\n",
              "      <td>BAO_0000190</td>\n",
              "      <td>BAO_0000357</td>\n",
              "      <td>single protein format</td>\n",
              "      <td>O=C1C(=O)N(Cc2ccc(F)cc2Cl)c2ccc(I)cc21</td>\n",
              "      <td>None</td>\n",
              "      <td>None</td>\n",
              "      <td>CHEMBL1139624</td>\n",
              "      <td>Bioorg. Med. Chem. Lett.</td>\n",
              "      <td>2005</td>\n",
              "      <td>{'bei': '12.10', 'le': '0.33', 'lle': '1.22', ...</td>\n",
              "      <td>CHEMBL188487</td>\n",
              "      <td>None</td>\n",
              "      <td>CHEMBL188487</td>\n",
              "      <td>5.03</td>\n",
              "      <td>False</td>\n",
              "      <td>http://www.openphacts.org/units/Nanomolar</td>\n",
              "      <td>383984</td>\n",
              "      <td>=</td>\n",
              "      <td>1</td>\n",
              "      <td>True</td>\n",
              "      <td>=</td>\n",
              "      <td>None</td>\n",
              "      <td>IC50</td>\n",
              "      <td>nM</td>\n",
              "      <td>None</td>\n",
              "      <td>9400.0</td>\n",
              "      <td>CHEMBL3927</td>\n",
              "      <td>SARS coronavirus</td>\n",
              "      <td>SARS coronavirus 3C-like proteinase</td>\n",
              "      <td>227859</td>\n",
              "      <td>None</td>\n",
              "      <td>None</td>\n",
              "      <td>IC50</td>\n",
              "      <td>uM</td>\n",
              "      <td>UO_0000065</td>\n",
              "      <td>None</td>\n",
              "      <td>9.4</td>\n",
              "    </tr>\n",
              "    <tr>\n",
              "      <th>2</th>\n",
              "      <td>None</td>\n",
              "      <td>1481061</td>\n",
              "      <td>[]</td>\n",
              "      <td>CHEMBL830868</td>\n",
              "      <td>In vitro inhibitory concentration against SARS...</td>\n",
              "      <td>B</td>\n",
              "      <td>None</td>\n",
              "      <td>None</td>\n",
              "      <td>BAO_0000190</td>\n",
              "      <td>BAO_0000357</td>\n",
              "      <td>single protein format</td>\n",
              "      <td>O=C1C(=O)N(CC2COc3ccccc3O2)c2ccc(I)cc21</td>\n",
              "      <td>None</td>\n",
              "      <td>None</td>\n",
              "      <td>CHEMBL1139624</td>\n",
              "      <td>Bioorg. Med. Chem. Lett.</td>\n",
              "      <td>2005</td>\n",
              "      <td>{'bei': '11.56', 'le': '0.29', 'lle': '2.21', ...</td>\n",
              "      <td>CHEMBL185698</td>\n",
              "      <td>None</td>\n",
              "      <td>CHEMBL185698</td>\n",
              "      <td>4.87</td>\n",
              "      <td>False</td>\n",
              "      <td>http://www.openphacts.org/units/Nanomolar</td>\n",
              "      <td>384106</td>\n",
              "      <td>=</td>\n",
              "      <td>1</td>\n",
              "      <td>True</td>\n",
              "      <td>=</td>\n",
              "      <td>None</td>\n",
              "      <td>IC50</td>\n",
              "      <td>nM</td>\n",
              "      <td>None</td>\n",
              "      <td>13500.0</td>\n",
              "      <td>CHEMBL3927</td>\n",
              "      <td>SARS coronavirus</td>\n",
              "      <td>SARS coronavirus 3C-like proteinase</td>\n",
              "      <td>227859</td>\n",
              "      <td>None</td>\n",
              "      <td>None</td>\n",
              "      <td>IC50</td>\n",
              "      <td>uM</td>\n",
              "      <td>UO_0000065</td>\n",
              "      <td>None</td>\n",
              "      <td>13.5</td>\n",
              "    </tr>\n",
              "    <tr>\n",
              "      <th>3</th>\n",
              "      <td>None</td>\n",
              "      <td>1481065</td>\n",
              "      <td>[]</td>\n",
              "      <td>CHEMBL829584</td>\n",
              "      <td>In vitro inhibitory concentration against SARS...</td>\n",
              "      <td>B</td>\n",
              "      <td>None</td>\n",
              "      <td>None</td>\n",
              "      <td>BAO_0000190</td>\n",
              "      <td>BAO_0000357</td>\n",
              "      <td>single protein format</td>\n",
              "      <td>O=C1C(=O)N(Cc2cc3ccccc3s2)c2ccccc21</td>\n",
              "      <td>None</td>\n",
              "      <td>None</td>\n",
              "      <td>CHEMBL1139624</td>\n",
              "      <td>Bioorg. Med. Chem. Lett.</td>\n",
              "      <td>2005</td>\n",
              "      <td>{'bei': '16.64', 'le': '0.32', 'lle': '1.25', ...</td>\n",
              "      <td>CHEMBL426082</td>\n",
              "      <td>None</td>\n",
              "      <td>CHEMBL426082</td>\n",
              "      <td>4.88</td>\n",
              "      <td>False</td>\n",
              "      <td>http://www.openphacts.org/units/Nanomolar</td>\n",
              "      <td>384075</td>\n",
              "      <td>=</td>\n",
              "      <td>1</td>\n",
              "      <td>True</td>\n",
              "      <td>=</td>\n",
              "      <td>None</td>\n",
              "      <td>IC50</td>\n",
              "      <td>nM</td>\n",
              "      <td>None</td>\n",
              "      <td>13110.0</td>\n",
              "      <td>CHEMBL3927</td>\n",
              "      <td>SARS coronavirus</td>\n",
              "      <td>SARS coronavirus 3C-like proteinase</td>\n",
              "      <td>227859</td>\n",
              "      <td>None</td>\n",
              "      <td>None</td>\n",
              "      <td>IC50</td>\n",
              "      <td>uM</td>\n",
              "      <td>UO_0000065</td>\n",
              "      <td>None</td>\n",
              "      <td>13.11</td>\n",
              "    </tr>\n",
              "    <tr>\n",
              "      <th>4</th>\n",
              "      <td>None</td>\n",
              "      <td>1481066</td>\n",
              "      <td>[]</td>\n",
              "      <td>CHEMBL829584</td>\n",
              "      <td>In vitro inhibitory concentration against SARS...</td>\n",
              "      <td>B</td>\n",
              "      <td>None</td>\n",
              "      <td>None</td>\n",
              "      <td>BAO_0000190</td>\n",
              "      <td>BAO_0000357</td>\n",
              "      <td>single protein format</td>\n",
              "      <td>O=C1C(=O)N(Cc2cc3ccccc3s2)c2c1cccc2[N+](=O)[O-]</td>\n",
              "      <td>None</td>\n",
              "      <td>None</td>\n",
              "      <td>CHEMBL1139624</td>\n",
              "      <td>Bioorg. Med. Chem. Lett.</td>\n",
              "      <td>2005</td>\n",
              "      <td>{'bei': '16.84', 'le': '0.32', 'lle': '2.16', ...</td>\n",
              "      <td>CHEMBL187717</td>\n",
              "      <td>None</td>\n",
              "      <td>CHEMBL187717</td>\n",
              "      <td>5.70</td>\n",
              "      <td>False</td>\n",
              "      <td>http://www.openphacts.org/units/Nanomolar</td>\n",
              "      <td>384234</td>\n",
              "      <td>=</td>\n",
              "      <td>1</td>\n",
              "      <td>True</td>\n",
              "      <td>=</td>\n",
              "      <td>None</td>\n",
              "      <td>IC50</td>\n",
              "      <td>nM</td>\n",
              "      <td>None</td>\n",
              "      <td>2000.0</td>\n",
              "      <td>CHEMBL3927</td>\n",
              "      <td>SARS coronavirus</td>\n",
              "      <td>SARS coronavirus 3C-like proteinase</td>\n",
              "      <td>227859</td>\n",
              "      <td>None</td>\n",
              "      <td>None</td>\n",
              "      <td>IC50</td>\n",
              "      <td>uM</td>\n",
              "      <td>UO_0000065</td>\n",
              "      <td>None</td>\n",
              "      <td>2.0</td>\n",
              "    </tr>\n",
              "    <tr>\n",
              "      <th>...</th>\n",
              "      <td>...</td>\n",
              "      <td>...</td>\n",
              "      <td>...</td>\n",
              "      <td>...</td>\n",
              "      <td>...</td>\n",
              "      <td>...</td>\n",
              "      <td>...</td>\n",
              "      <td>...</td>\n",
              "      <td>...</td>\n",
              "      <td>...</td>\n",
              "      <td>...</td>\n",
              "      <td>...</td>\n",
              "      <td>...</td>\n",
              "      <td>...</td>\n",
              "      <td>...</td>\n",
              "      <td>...</td>\n",
              "      <td>...</td>\n",
              "      <td>...</td>\n",
              "      <td>...</td>\n",
              "      <td>...</td>\n",
              "      <td>...</td>\n",
              "      <td>...</td>\n",
              "      <td>...</td>\n",
              "      <td>...</td>\n",
              "      <td>...</td>\n",
              "      <td>...</td>\n",
              "      <td>...</td>\n",
              "      <td>...</td>\n",
              "      <td>...</td>\n",
              "      <td>...</td>\n",
              "      <td>...</td>\n",
              "      <td>...</td>\n",
              "      <td>...</td>\n",
              "      <td>...</td>\n",
              "      <td>...</td>\n",
              "      <td>...</td>\n",
              "      <td>...</td>\n",
              "      <td>...</td>\n",
              "      <td>...</td>\n",
              "      <td>...</td>\n",
              "      <td>...</td>\n",
              "      <td>...</td>\n",
              "      <td>...</td>\n",
              "      <td>...</td>\n",
              "      <td>...</td>\n",
              "    </tr>\n",
              "    <tr>\n",
              "      <th>128</th>\n",
              "      <td>None</td>\n",
              "      <td>12041507</td>\n",
              "      <td>[]</td>\n",
              "      <td>CHEMBL2150313</td>\n",
              "      <td>Inhibition of SARS-CoV PLpro expressed in Esch...</td>\n",
              "      <td>B</td>\n",
              "      <td>None</td>\n",
              "      <td>None</td>\n",
              "      <td>BAO_0000190</td>\n",
              "      <td>BAO_0000019</td>\n",
              "      <td>assay format</td>\n",
              "      <td>COC(=O)[C@@]1(C)CCCc2c1ccc1c2C(=O)C(=O)c2c(C)c...</td>\n",
              "      <td>None</td>\n",
              "      <td>None</td>\n",
              "      <td>CHEMBL2146458</td>\n",
              "      <td>Bioorg. Med. Chem.</td>\n",
              "      <td>2012</td>\n",
              "      <td>{'bei': '14.70', 'le': '0.27', 'lle': '1.57', ...</td>\n",
              "      <td>CHEMBL2146517</td>\n",
              "      <td>METHYL TANSHINONATE</td>\n",
              "      <td>CHEMBL2146517</td>\n",
              "      <td>4.97</td>\n",
              "      <td>False</td>\n",
              "      <td>http://www.openphacts.org/units/Nanomolar</td>\n",
              "      <td>1727226</td>\n",
              "      <td>=</td>\n",
              "      <td>1</td>\n",
              "      <td>True</td>\n",
              "      <td>=</td>\n",
              "      <td>None</td>\n",
              "      <td>IC50</td>\n",
              "      <td>nM</td>\n",
              "      <td>None</td>\n",
              "      <td>10600.0</td>\n",
              "      <td>CHEMBL3927</td>\n",
              "      <td>SARS coronavirus</td>\n",
              "      <td>SARS coronavirus 3C-like proteinase</td>\n",
              "      <td>227859</td>\n",
              "      <td>None</td>\n",
              "      <td>None</td>\n",
              "      <td>IC50</td>\n",
              "      <td>uM</td>\n",
              "      <td>UO_0000065</td>\n",
              "      <td>None</td>\n",
              "      <td>10.6</td>\n",
              "    </tr>\n",
              "    <tr>\n",
              "      <th>129</th>\n",
              "      <td>None</td>\n",
              "      <td>12041508</td>\n",
              "      <td>[]</td>\n",
              "      <td>CHEMBL2150313</td>\n",
              "      <td>Inhibition of SARS-CoV PLpro expressed in Esch...</td>\n",
              "      <td>B</td>\n",
              "      <td>None</td>\n",
              "      <td>None</td>\n",
              "      <td>BAO_0000190</td>\n",
              "      <td>BAO_0000019</td>\n",
              "      <td>assay format</td>\n",
              "      <td>C[C@H]1COC2=C1C(=O)C(=O)c1c2ccc2c1CCCC2(C)C</td>\n",
              "      <td>None</td>\n",
              "      <td>None</td>\n",
              "      <td>CHEMBL2146458</td>\n",
              "      <td>Bioorg. Med. Chem.</td>\n",
              "      <td>2012</td>\n",
              "      <td>{'bei': '16.86', 'le': '0.31', 'lle': '1.56', ...</td>\n",
              "      <td>CHEMBL187460</td>\n",
              "      <td>CRYPTOTANSHINONE</td>\n",
              "      <td>CHEMBL187460</td>\n",
              "      <td>5.00</td>\n",
              "      <td>False</td>\n",
              "      <td>http://www.openphacts.org/units/Nanomolar</td>\n",
              "      <td>1727227</td>\n",
              "      <td>=</td>\n",
              "      <td>1</td>\n",
              "      <td>True</td>\n",
              "      <td>=</td>\n",
              "      <td>None</td>\n",
              "      <td>IC50</td>\n",
              "      <td>nM</td>\n",
              "      <td>None</td>\n",
              "      <td>10100.0</td>\n",
              "      <td>CHEMBL3927</td>\n",
              "      <td>SARS coronavirus</td>\n",
              "      <td>SARS coronavirus 3C-like proteinase</td>\n",
              "      <td>227859</td>\n",
              "      <td>None</td>\n",
              "      <td>None</td>\n",
              "      <td>IC50</td>\n",
              "      <td>uM</td>\n",
              "      <td>UO_0000065</td>\n",
              "      <td>None</td>\n",
              "      <td>10.1</td>\n",
              "    </tr>\n",
              "    <tr>\n",
              "      <th>130</th>\n",
              "      <td>None</td>\n",
              "      <td>12041509</td>\n",
              "      <td>[]</td>\n",
              "      <td>CHEMBL2150313</td>\n",
              "      <td>Inhibition of SARS-CoV PLpro expressed in Esch...</td>\n",
              "      <td>B</td>\n",
              "      <td>None</td>\n",
              "      <td>None</td>\n",
              "      <td>BAO_0000190</td>\n",
              "      <td>BAO_0000019</td>\n",
              "      <td>assay format</td>\n",
              "      <td>Cc1coc2c1C(=O)C(=O)c1c-2ccc2c(C)cccc12</td>\n",
              "      <td>None</td>\n",
              "      <td>None</td>\n",
              "      <td>CHEMBL2146458</td>\n",
              "      <td>Bioorg. Med. Chem.</td>\n",
              "      <td>2012</td>\n",
              "      <td>{'bei': '17.88', 'le': '0.32', 'lle': '0.84', ...</td>\n",
              "      <td>CHEMBL363535</td>\n",
              "      <td>TANSHINONE I</td>\n",
              "      <td>CHEMBL363535</td>\n",
              "      <td>4.94</td>\n",
              "      <td>False</td>\n",
              "      <td>http://www.openphacts.org/units/Nanomolar</td>\n",
              "      <td>1727228</td>\n",
              "      <td>=</td>\n",
              "      <td>1</td>\n",
              "      <td>True</td>\n",
              "      <td>=</td>\n",
              "      <td>None</td>\n",
              "      <td>IC50</td>\n",
              "      <td>nM</td>\n",
              "      <td>None</td>\n",
              "      <td>11500.0</td>\n",
              "      <td>CHEMBL3927</td>\n",
              "      <td>SARS coronavirus</td>\n",
              "      <td>SARS coronavirus 3C-like proteinase</td>\n",
              "      <td>227859</td>\n",
              "      <td>None</td>\n",
              "      <td>None</td>\n",
              "      <td>IC50</td>\n",
              "      <td>uM</td>\n",
              "      <td>UO_0000065</td>\n",
              "      <td>None</td>\n",
              "      <td>11.5</td>\n",
              "    </tr>\n",
              "    <tr>\n",
              "      <th>131</th>\n",
              "      <td>None</td>\n",
              "      <td>12041510</td>\n",
              "      <td>[]</td>\n",
              "      <td>CHEMBL2150313</td>\n",
              "      <td>Inhibition of SARS-CoV PLpro expressed in Esch...</td>\n",
              "      <td>B</td>\n",
              "      <td>None</td>\n",
              "      <td>None</td>\n",
              "      <td>BAO_0000190</td>\n",
              "      <td>BAO_0000019</td>\n",
              "      <td>assay format</td>\n",
              "      <td>Cc1cccc2c3c(ccc12)C1=C(C(=O)C3=O)[C@@H](C)CO1</td>\n",
              "      <td>None</td>\n",
              "      <td>None</td>\n",
              "      <td>CHEMBL2146458</td>\n",
              "      <td>Bioorg. Med. Chem.</td>\n",
              "      <td>2012</td>\n",
              "      <td>{'bei': '17.86', 'le': '0.32', 'lle': '1.68', ...</td>\n",
              "      <td>CHEMBL227075</td>\n",
              "      <td>DIHYDROTANSHINONE I</td>\n",
              "      <td>CHEMBL227075</td>\n",
              "      <td>4.97</td>\n",
              "      <td>False</td>\n",
              "      <td>http://www.openphacts.org/units/Nanomolar</td>\n",
              "      <td>1727229</td>\n",
              "      <td>=</td>\n",
              "      <td>1</td>\n",
              "      <td>True</td>\n",
              "      <td>=</td>\n",
              "      <td>None</td>\n",
              "      <td>IC50</td>\n",
              "      <td>nM</td>\n",
              "      <td>None</td>\n",
              "      <td>10700.0</td>\n",
              "      <td>CHEMBL3927</td>\n",
              "      <td>SARS coronavirus</td>\n",
              "      <td>SARS coronavirus 3C-like proteinase</td>\n",
              "      <td>227859</td>\n",
              "      <td>None</td>\n",
              "      <td>None</td>\n",
              "      <td>IC50</td>\n",
              "      <td>uM</td>\n",
              "      <td>UO_0000065</td>\n",
              "      <td>None</td>\n",
              "      <td>10.7</td>\n",
              "    </tr>\n",
              "    <tr>\n",
              "      <th>132</th>\n",
              "      <td>None</td>\n",
              "      <td>12041511</td>\n",
              "      <td>[]</td>\n",
              "      <td>CHEMBL2150313</td>\n",
              "      <td>Inhibition of SARS-CoV PLpro expressed in Esch...</td>\n",
              "      <td>B</td>\n",
              "      <td>None</td>\n",
              "      <td>None</td>\n",
              "      <td>BAO_0000190</td>\n",
              "      <td>BAO_0000019</td>\n",
              "      <td>assay format</td>\n",
              "      <td>CC(C)C1=Cc2ccc3c(c2C(=O)C1=O)CCCC3(C)C</td>\n",
              "      <td>None</td>\n",
              "      <td>None</td>\n",
              "      <td>CHEMBL2146458</td>\n",
              "      <td>Bioorg. Med. Chem.</td>\n",
              "      <td>2012</td>\n",
              "      <td>{'bei': '14.53', 'le': '0.27', 'lle': '-0.01',...</td>\n",
              "      <td>CHEMBL45830</td>\n",
              "      <td>MILTIRONE</td>\n",
              "      <td>CHEMBL45830</td>\n",
              "      <td>4.10</td>\n",
              "      <td>False</td>\n",
              "      <td>http://www.openphacts.org/units/Nanomolar</td>\n",
              "      <td>1727230</td>\n",
              "      <td>=</td>\n",
              "      <td>1</td>\n",
              "      <td>True</td>\n",
              "      <td>=</td>\n",
              "      <td>None</td>\n",
              "      <td>IC50</td>\n",
              "      <td>nM</td>\n",
              "      <td>None</td>\n",
              "      <td>78900.0</td>\n",
              "      <td>CHEMBL3927</td>\n",
              "      <td>SARS coronavirus</td>\n",
              "      <td>SARS coronavirus 3C-like proteinase</td>\n",
              "      <td>227859</td>\n",
              "      <td>None</td>\n",
              "      <td>None</td>\n",
              "      <td>IC50</td>\n",
              "      <td>uM</td>\n",
              "      <td>UO_0000065</td>\n",
              "      <td>None</td>\n",
              "      <td>78.9</td>\n",
              "    </tr>\n",
              "  </tbody>\n",
              "</table>\n",
              "<p>133 rows × 45 columns</p>\n",
              "</div>"
            ],
            "text/plain": [
              "    activity_comment  activity_id  ... upper_value  value\n",
              "0               None      1480935  ...        None    7.2\n",
              "1               None      1480936  ...        None    9.4\n",
              "2               None      1481061  ...        None   13.5\n",
              "3               None      1481065  ...        None  13.11\n",
              "4               None      1481066  ...        None    2.0\n",
              "..               ...          ...  ...         ...    ...\n",
              "128             None     12041507  ...        None   10.6\n",
              "129             None     12041508  ...        None   10.1\n",
              "130             None     12041509  ...        None   11.5\n",
              "131             None     12041510  ...        None   10.7\n",
              "132             None     12041511  ...        None   78.9\n",
              "\n",
              "[133 rows x 45 columns]"
            ]
          },
          "metadata": {},
          "execution_count": 18
        }
      ]
    },
    {
      "cell_type": "markdown",
      "metadata": {
        "id": "JUe4uU1_-xUW"
      },
      "source": [
        "### **Data pre-processing of the bioactivity data**"
      ]
    },
    {
      "cell_type": "markdown",
      "metadata": {
        "id": "CUs0N9sfycsu"
      },
      "source": [
        "#### **Classifying compounds as active, inactive or intermediate**"
      ]
    },
    {
      "cell_type": "markdown",
      "metadata": {
        "id": "kHdtj54Gza_9"
      },
      "source": [
        "The IC50 unit represents the bioactivity data. Compounds having values of less than 1000 nM will be considered to be **active** while those greater than 10,000 nM will be considered to be **inactive**. As for those values in between 1,000 and 10,000 nM will be referred to as **intermediate**. "
      ]
    },
    {
      "cell_type": "code",
      "metadata": {
        "id": "QJdQu_nQw5UO"
      },
      "source": [
        "bioactivity_class = []\n",
        "for i in df2.standard_value:\n",
        "  if float(i) >= 10000:\n",
        "    bioactivity_class.append('inactive')\n",
        "  elif float(i) <= 1000:\n",
        "    bioactivity_class.append('active')\n",
        "  else:\n",
        "    bioactivity_class.append('intermediate')"
      ],
      "execution_count": 19,
      "outputs": []
    },
    {
      "cell_type": "code",
      "metadata": {
        "id": "vzNKiViCJHz3"
      },
      "source": [
        "# Making a list with all the molecule_chembl_id\n",
        "mol_cid = []\n",
        "for i in df2.molecule_chembl_id:\n",
        "  mol_cid.append(i)"
      ],
      "execution_count": 20,
      "outputs": []
    },
    {
      "cell_type": "code",
      "metadata": {
        "id": "puT_LBubKWk_"
      },
      "source": [
        "# Makng a list with all the canonical_smiles\n",
        "canonical_smiles = []\n",
        "for i in df2.canonical_smiles:\n",
        "  canonical_smiles.append(i)"
      ],
      "execution_count": 21,
      "outputs": []
    },
    {
      "cell_type": "code",
      "metadata": {
        "id": "0gF_AaxVKnm4"
      },
      "source": [
        "# Makng a list with all the standard_value\n",
        "standard_value = []\n",
        "for i in df2.standard_value:\n",
        "  standard_value.append(i)"
      ],
      "execution_count": 22,
      "outputs": []
    },
    {
      "cell_type": "code",
      "metadata": {
        "colab": {
          "base_uri": "https://localhost:8080/",
          "height": 419
        },
        "id": "c9sq-GdrOUuw",
        "outputId": "198de5ff-19bc-49e1-ba8e-755dcd55a683"
      },
      "source": [
        "# Combining the lists bioactivity_class, mol_cid, canonical_smiles, and standard_value into a dataframe\n",
        "data_t = list(zip(mol_cid, canonical_smiles, bioactivity_class, standard_value))\n",
        "df3 = pd.DataFrame(data_t, columns=[\"molecule_chembl_id\", \"canonical_smiles\", \"bioactivity_class\", \"standard_value\"])\n",
        "df3"
      ],
      "execution_count": 23,
      "outputs": [
        {
          "output_type": "execute_result",
          "data": {
            "text/html": [
              "<div>\n",
              "<style scoped>\n",
              "    .dataframe tbody tr th:only-of-type {\n",
              "        vertical-align: middle;\n",
              "    }\n",
              "\n",
              "    .dataframe tbody tr th {\n",
              "        vertical-align: top;\n",
              "    }\n",
              "\n",
              "    .dataframe thead th {\n",
              "        text-align: right;\n",
              "    }\n",
              "</style>\n",
              "<table border=\"1\" class=\"dataframe\">\n",
              "  <thead>\n",
              "    <tr style=\"text-align: right;\">\n",
              "      <th></th>\n",
              "      <th>molecule_chembl_id</th>\n",
              "      <th>canonical_smiles</th>\n",
              "      <th>bioactivity_class</th>\n",
              "      <th>standard_value</th>\n",
              "    </tr>\n",
              "  </thead>\n",
              "  <tbody>\n",
              "    <tr>\n",
              "      <th>0</th>\n",
              "      <td>CHEMBL187579</td>\n",
              "      <td>Cc1noc(C)c1CN1C(=O)C(=O)c2cc(C#N)ccc21</td>\n",
              "      <td>intermediate</td>\n",
              "      <td>7200.0</td>\n",
              "    </tr>\n",
              "    <tr>\n",
              "      <th>1</th>\n",
              "      <td>CHEMBL188487</td>\n",
              "      <td>O=C1C(=O)N(Cc2ccc(F)cc2Cl)c2ccc(I)cc21</td>\n",
              "      <td>intermediate</td>\n",
              "      <td>9400.0</td>\n",
              "    </tr>\n",
              "    <tr>\n",
              "      <th>2</th>\n",
              "      <td>CHEMBL185698</td>\n",
              "      <td>O=C1C(=O)N(CC2COc3ccccc3O2)c2ccc(I)cc21</td>\n",
              "      <td>inactive</td>\n",
              "      <td>13500.0</td>\n",
              "    </tr>\n",
              "    <tr>\n",
              "      <th>3</th>\n",
              "      <td>CHEMBL426082</td>\n",
              "      <td>O=C1C(=O)N(Cc2cc3ccccc3s2)c2ccccc21</td>\n",
              "      <td>inactive</td>\n",
              "      <td>13110.0</td>\n",
              "    </tr>\n",
              "    <tr>\n",
              "      <th>4</th>\n",
              "      <td>CHEMBL187717</td>\n",
              "      <td>O=C1C(=O)N(Cc2cc3ccccc3s2)c2c1cccc2[N+](=O)[O-]</td>\n",
              "      <td>intermediate</td>\n",
              "      <td>2000.0</td>\n",
              "    </tr>\n",
              "    <tr>\n",
              "      <th>...</th>\n",
              "      <td>...</td>\n",
              "      <td>...</td>\n",
              "      <td>...</td>\n",
              "      <td>...</td>\n",
              "    </tr>\n",
              "    <tr>\n",
              "      <th>128</th>\n",
              "      <td>CHEMBL2146517</td>\n",
              "      <td>COC(=O)[C@@]1(C)CCCc2c1ccc1c2C(=O)C(=O)c2c(C)c...</td>\n",
              "      <td>inactive</td>\n",
              "      <td>10600.0</td>\n",
              "    </tr>\n",
              "    <tr>\n",
              "      <th>129</th>\n",
              "      <td>CHEMBL187460</td>\n",
              "      <td>C[C@H]1COC2=C1C(=O)C(=O)c1c2ccc2c1CCCC2(C)C</td>\n",
              "      <td>inactive</td>\n",
              "      <td>10100.0</td>\n",
              "    </tr>\n",
              "    <tr>\n",
              "      <th>130</th>\n",
              "      <td>CHEMBL363535</td>\n",
              "      <td>Cc1coc2c1C(=O)C(=O)c1c-2ccc2c(C)cccc12</td>\n",
              "      <td>inactive</td>\n",
              "      <td>11500.0</td>\n",
              "    </tr>\n",
              "    <tr>\n",
              "      <th>131</th>\n",
              "      <td>CHEMBL227075</td>\n",
              "      <td>Cc1cccc2c3c(ccc12)C1=C(C(=O)C3=O)[C@@H](C)CO1</td>\n",
              "      <td>inactive</td>\n",
              "      <td>10700.0</td>\n",
              "    </tr>\n",
              "    <tr>\n",
              "      <th>132</th>\n",
              "      <td>CHEMBL45830</td>\n",
              "      <td>CC(C)C1=Cc2ccc3c(c2C(=O)C1=O)CCCC3(C)C</td>\n",
              "      <td>inactive</td>\n",
              "      <td>78900.0</td>\n",
              "    </tr>\n",
              "  </tbody>\n",
              "</table>\n",
              "<p>133 rows × 4 columns</p>\n",
              "</div>"
            ],
            "text/plain": [
              "    molecule_chembl_id  ... standard_value\n",
              "0         CHEMBL187579  ...         7200.0\n",
              "1         CHEMBL188487  ...         9400.0\n",
              "2         CHEMBL185698  ...        13500.0\n",
              "3         CHEMBL426082  ...        13110.0\n",
              "4         CHEMBL187717  ...         2000.0\n",
              "..                 ...  ...            ...\n",
              "128      CHEMBL2146517  ...        10600.0\n",
              "129       CHEMBL187460  ...        10100.0\n",
              "130       CHEMBL363535  ...        11500.0\n",
              "131       CHEMBL227075  ...        10700.0\n",
              "132        CHEMBL45830  ...        78900.0\n",
              "\n",
              "[133 rows x 4 columns]"
            ]
          },
          "metadata": {},
          "execution_count": 23
        }
      ]
    },
    {
      "cell_type": "code",
      "metadata": {
        "colab": {
          "base_uri": "https://localhost:8080/",
          "height": 419
        },
        "id": "q1yJRR0fQj9o",
        "outputId": "50b57086-22a1-4d57-9d12-59cfd3ae9f78"
      },
      "source": [
        "#Or \n",
        "selected = ['molecule_chembl_id', 'canonical_smiles', \"standard_value\"]\n",
        "df4 = df2[selected]\n",
        "df4"
      ],
      "execution_count": 24,
      "outputs": [
        {
          "output_type": "execute_result",
          "data": {
            "text/html": [
              "<div>\n",
              "<style scoped>\n",
              "    .dataframe tbody tr th:only-of-type {\n",
              "        vertical-align: middle;\n",
              "    }\n",
              "\n",
              "    .dataframe tbody tr th {\n",
              "        vertical-align: top;\n",
              "    }\n",
              "\n",
              "    .dataframe thead th {\n",
              "        text-align: right;\n",
              "    }\n",
              "</style>\n",
              "<table border=\"1\" class=\"dataframe\">\n",
              "  <thead>\n",
              "    <tr style=\"text-align: right;\">\n",
              "      <th></th>\n",
              "      <th>molecule_chembl_id</th>\n",
              "      <th>canonical_smiles</th>\n",
              "      <th>standard_value</th>\n",
              "    </tr>\n",
              "  </thead>\n",
              "  <tbody>\n",
              "    <tr>\n",
              "      <th>0</th>\n",
              "      <td>CHEMBL187579</td>\n",
              "      <td>Cc1noc(C)c1CN1C(=O)C(=O)c2cc(C#N)ccc21</td>\n",
              "      <td>7200.0</td>\n",
              "    </tr>\n",
              "    <tr>\n",
              "      <th>1</th>\n",
              "      <td>CHEMBL188487</td>\n",
              "      <td>O=C1C(=O)N(Cc2ccc(F)cc2Cl)c2ccc(I)cc21</td>\n",
              "      <td>9400.0</td>\n",
              "    </tr>\n",
              "    <tr>\n",
              "      <th>2</th>\n",
              "      <td>CHEMBL185698</td>\n",
              "      <td>O=C1C(=O)N(CC2COc3ccccc3O2)c2ccc(I)cc21</td>\n",
              "      <td>13500.0</td>\n",
              "    </tr>\n",
              "    <tr>\n",
              "      <th>3</th>\n",
              "      <td>CHEMBL426082</td>\n",
              "      <td>O=C1C(=O)N(Cc2cc3ccccc3s2)c2ccccc21</td>\n",
              "      <td>13110.0</td>\n",
              "    </tr>\n",
              "    <tr>\n",
              "      <th>4</th>\n",
              "      <td>CHEMBL187717</td>\n",
              "      <td>O=C1C(=O)N(Cc2cc3ccccc3s2)c2c1cccc2[N+](=O)[O-]</td>\n",
              "      <td>2000.0</td>\n",
              "    </tr>\n",
              "    <tr>\n",
              "      <th>...</th>\n",
              "      <td>...</td>\n",
              "      <td>...</td>\n",
              "      <td>...</td>\n",
              "    </tr>\n",
              "    <tr>\n",
              "      <th>128</th>\n",
              "      <td>CHEMBL2146517</td>\n",
              "      <td>COC(=O)[C@@]1(C)CCCc2c1ccc1c2C(=O)C(=O)c2c(C)c...</td>\n",
              "      <td>10600.0</td>\n",
              "    </tr>\n",
              "    <tr>\n",
              "      <th>129</th>\n",
              "      <td>CHEMBL187460</td>\n",
              "      <td>C[C@H]1COC2=C1C(=O)C(=O)c1c2ccc2c1CCCC2(C)C</td>\n",
              "      <td>10100.0</td>\n",
              "    </tr>\n",
              "    <tr>\n",
              "      <th>130</th>\n",
              "      <td>CHEMBL363535</td>\n",
              "      <td>Cc1coc2c1C(=O)C(=O)c1c-2ccc2c(C)cccc12</td>\n",
              "      <td>11500.0</td>\n",
              "    </tr>\n",
              "    <tr>\n",
              "      <th>131</th>\n",
              "      <td>CHEMBL227075</td>\n",
              "      <td>Cc1cccc2c3c(ccc12)C1=C(C(=O)C3=O)[C@@H](C)CO1</td>\n",
              "      <td>10700.0</td>\n",
              "    </tr>\n",
              "    <tr>\n",
              "      <th>132</th>\n",
              "      <td>CHEMBL45830</td>\n",
              "      <td>CC(C)C1=Cc2ccc3c(c2C(=O)C1=O)CCCC3(C)C</td>\n",
              "      <td>78900.0</td>\n",
              "    </tr>\n",
              "  </tbody>\n",
              "</table>\n",
              "<p>133 rows × 3 columns</p>\n",
              "</div>"
            ],
            "text/plain": [
              "    molecule_chembl_id  ... standard_value\n",
              "0         CHEMBL187579  ...         7200.0\n",
              "1         CHEMBL188487  ...         9400.0\n",
              "2         CHEMBL185698  ...        13500.0\n",
              "3         CHEMBL426082  ...        13110.0\n",
              "4         CHEMBL187717  ...         2000.0\n",
              "..                 ...  ...            ...\n",
              "128      CHEMBL2146517  ...        10600.0\n",
              "129       CHEMBL187460  ...        10100.0\n",
              "130       CHEMBL363535  ...        11500.0\n",
              "131       CHEMBL227075  ...        10700.0\n",
              "132        CHEMBL45830  ...        78900.0\n",
              "\n",
              "[133 rows x 3 columns]"
            ]
          },
          "metadata": {},
          "execution_count": 24
        }
      ]
    },
    {
      "cell_type": "code",
      "metadata": {
        "colab": {
          "base_uri": "https://localhost:8080/",
          "height": 419
        },
        "id": "NGOF3UFwWAZq",
        "outputId": "341797b8-fdbc-4638-a728-dfc533d7bea5"
      },
      "source": [
        "pd.concat([df4, pd.Series(bioactivity_class).rename('bioactivity_class')], axis=1)"
      ],
      "execution_count": 25,
      "outputs": [
        {
          "output_type": "execute_result",
          "data": {
            "text/html": [
              "<div>\n",
              "<style scoped>\n",
              "    .dataframe tbody tr th:only-of-type {\n",
              "        vertical-align: middle;\n",
              "    }\n",
              "\n",
              "    .dataframe tbody tr th {\n",
              "        vertical-align: top;\n",
              "    }\n",
              "\n",
              "    .dataframe thead th {\n",
              "        text-align: right;\n",
              "    }\n",
              "</style>\n",
              "<table border=\"1\" class=\"dataframe\">\n",
              "  <thead>\n",
              "    <tr style=\"text-align: right;\">\n",
              "      <th></th>\n",
              "      <th>molecule_chembl_id</th>\n",
              "      <th>canonical_smiles</th>\n",
              "      <th>standard_value</th>\n",
              "      <th>bioactivity_class</th>\n",
              "    </tr>\n",
              "  </thead>\n",
              "  <tbody>\n",
              "    <tr>\n",
              "      <th>0</th>\n",
              "      <td>CHEMBL187579</td>\n",
              "      <td>Cc1noc(C)c1CN1C(=O)C(=O)c2cc(C#N)ccc21</td>\n",
              "      <td>7200.0</td>\n",
              "      <td>intermediate</td>\n",
              "    </tr>\n",
              "    <tr>\n",
              "      <th>1</th>\n",
              "      <td>CHEMBL188487</td>\n",
              "      <td>O=C1C(=O)N(Cc2ccc(F)cc2Cl)c2ccc(I)cc21</td>\n",
              "      <td>9400.0</td>\n",
              "      <td>intermediate</td>\n",
              "    </tr>\n",
              "    <tr>\n",
              "      <th>2</th>\n",
              "      <td>CHEMBL185698</td>\n",
              "      <td>O=C1C(=O)N(CC2COc3ccccc3O2)c2ccc(I)cc21</td>\n",
              "      <td>13500.0</td>\n",
              "      <td>inactive</td>\n",
              "    </tr>\n",
              "    <tr>\n",
              "      <th>3</th>\n",
              "      <td>CHEMBL426082</td>\n",
              "      <td>O=C1C(=O)N(Cc2cc3ccccc3s2)c2ccccc21</td>\n",
              "      <td>13110.0</td>\n",
              "      <td>inactive</td>\n",
              "    </tr>\n",
              "    <tr>\n",
              "      <th>4</th>\n",
              "      <td>CHEMBL187717</td>\n",
              "      <td>O=C1C(=O)N(Cc2cc3ccccc3s2)c2c1cccc2[N+](=O)[O-]</td>\n",
              "      <td>2000.0</td>\n",
              "      <td>intermediate</td>\n",
              "    </tr>\n",
              "    <tr>\n",
              "      <th>...</th>\n",
              "      <td>...</td>\n",
              "      <td>...</td>\n",
              "      <td>...</td>\n",
              "      <td>...</td>\n",
              "    </tr>\n",
              "    <tr>\n",
              "      <th>128</th>\n",
              "      <td>CHEMBL2146517</td>\n",
              "      <td>COC(=O)[C@@]1(C)CCCc2c1ccc1c2C(=O)C(=O)c2c(C)c...</td>\n",
              "      <td>10600.0</td>\n",
              "      <td>inactive</td>\n",
              "    </tr>\n",
              "    <tr>\n",
              "      <th>129</th>\n",
              "      <td>CHEMBL187460</td>\n",
              "      <td>C[C@H]1COC2=C1C(=O)C(=O)c1c2ccc2c1CCCC2(C)C</td>\n",
              "      <td>10100.0</td>\n",
              "      <td>inactive</td>\n",
              "    </tr>\n",
              "    <tr>\n",
              "      <th>130</th>\n",
              "      <td>CHEMBL363535</td>\n",
              "      <td>Cc1coc2c1C(=O)C(=O)c1c-2ccc2c(C)cccc12</td>\n",
              "      <td>11500.0</td>\n",
              "      <td>inactive</td>\n",
              "    </tr>\n",
              "    <tr>\n",
              "      <th>131</th>\n",
              "      <td>CHEMBL227075</td>\n",
              "      <td>Cc1cccc2c3c(ccc12)C1=C(C(=O)C3=O)[C@@H](C)CO1</td>\n",
              "      <td>10700.0</td>\n",
              "      <td>inactive</td>\n",
              "    </tr>\n",
              "    <tr>\n",
              "      <th>132</th>\n",
              "      <td>CHEMBL45830</td>\n",
              "      <td>CC(C)C1=Cc2ccc3c(c2C(=O)C1=O)CCCC3(C)C</td>\n",
              "      <td>78900.0</td>\n",
              "      <td>inactive</td>\n",
              "    </tr>\n",
              "  </tbody>\n",
              "</table>\n",
              "<p>133 rows × 4 columns</p>\n",
              "</div>"
            ],
            "text/plain": [
              "    molecule_chembl_id  ... bioactivity_class\n",
              "0         CHEMBL187579  ...      intermediate\n",
              "1         CHEMBL188487  ...      intermediate\n",
              "2         CHEMBL185698  ...          inactive\n",
              "3         CHEMBL426082  ...          inactive\n",
              "4         CHEMBL187717  ...      intermediate\n",
              "..                 ...  ...               ...\n",
              "128      CHEMBL2146517  ...          inactive\n",
              "129       CHEMBL187460  ...          inactive\n",
              "130       CHEMBL363535  ...          inactive\n",
              "131       CHEMBL227075  ...          inactive\n",
              "132        CHEMBL45830  ...          inactive\n",
              "\n",
              "[133 rows x 4 columns]"
            ]
          },
          "metadata": {},
          "execution_count": 25
        }
      ]
    },
    {
      "cell_type": "code",
      "metadata": {
        "id": "Zs90q7s3v7ge"
      },
      "source": [
        "# Saving dataframe to csv\n",
        "df4.to_csv('bioactivity_preprocessed_data.csv', index=False)"
      ],
      "execution_count": 26,
      "outputs": []
    },
    {
      "cell_type": "code",
      "metadata": {
        "colab": {
          "base_uri": "https://localhost:8080/"
        },
        "id": "8PGasmQh44XH",
        "outputId": "33419567-e071-4a0b-fd87-3dc86060f370"
      },
      "source": [
        "! ls -l"
      ],
      "execution_count": 27,
      "outputs": [
        {
          "output_type": "stream",
          "name": "stdout",
          "text": [
            "ls: cannot access 'drive': Transport endpoint is not connected\n",
            "total 92\n",
            "-rw-r--r-- 1 root root 70334 Nov 27 23:35 bioactivity_data.csv\n",
            "-rw-r--r-- 1 root root  9337 Nov 28 00:13 bioactivity_preprocessed_data.csv\n",
            "d????????? ? ?    ?        ?            ? drive\n",
            "drwx------ 5 root root  4096 Nov 27 23:35 gdrive\n",
            "drwxr-xr-x 1 root root  4096 Nov 18 14:36 sample_data\n"
          ]
        }
      ]
    },
    {
      "cell_type": "code",
      "metadata": {
        "id": "B4yysgE_48wh"
      },
      "source": [
        "! cp bioactivity_preprocessed_data.csv \"/content/gdrive/My Drive/Colab Notebooks/data\""
      ],
      "execution_count": 28,
      "outputs": []
    },
    {
      "cell_type": "code",
      "metadata": {
        "colab": {
          "base_uri": "https://localhost:8080/"
        },
        "id": "WNMupAts5G9M",
        "outputId": "afab11df-e6aa-4886-b507-c2d39d9b382a"
      },
      "source": [
        "! ls \"/content/gdrive/My Drive/Colab Notebooks/data\""
      ],
      "execution_count": 29,
      "outputs": [
        {
          "output_type": "stream",
          "name": "stdout",
          "text": [
            "bioactivity_data.csv  bioactivity_preprocessed_data.csv\n"
          ]
        }
      ]
    },
    {
      "cell_type": "code",
      "metadata": {
        "id": "XvoQ5zr05Jzc"
      },
      "source": [
        ""
      ],
      "execution_count": null,
      "outputs": []
    }
  ]
}